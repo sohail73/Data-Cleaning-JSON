{
 "cells": [
  {
   "cell_type": "code",
   "execution_count": 24,
   "id": "f6ffee9e-6f97-45f6-8253-86d932269018",
   "metadata": {},
   "outputs": [],
   "source": [
    "import json"
   ]
  },
  {
   "cell_type": "code",
   "execution_count": 26,
   "id": "51881838-0a63-4a24-8cf5-6969f3386aee",
   "metadata": {},
   "outputs": [
    {
     "name": "stdout",
     "output_type": "stream",
     "text": [
      "data has been cleand succesfuly\n"
     ]
    }
   ],
   "source": [
    "\n",
    "def clean_data(data):\n",
    "    #Remove users with missing names \n",
    "    data['users'] = [user for user in data['users'] if user['name'].strip() ]\n",
    "\n",
    "    #remove duplicate frinds \n",
    "    for user in data['users']:\n",
    "        user['friends'] = list(set(user['friends']))\n",
    "     #remove inactive user \n",
    "    data['users'] = [user for user in data['users'] if user['friends'] or user['liked_pages']]\n",
    "\n",
    "    #remove duplicate pages\n",
    "\n",
    "    unique_pages={}\n",
    "    for page in data['pages']:\n",
    "        unique_pages[page['id']] = page\n",
    "    data['pages'] = list(unique_pages.values())\n",
    "    return data\n",
    "# Load the data\n",
    "data = json.load(open(\"data2.json\"))\n",
    "data = clean_data(data)\n",
    "json.dump(data,open(\"cleand_data2.json\",\"w\"), indent=4 )\n",
    "print(\"data has been cleand succesfuly\")\n"
   ]
  },
  {
   "cell_type": "code",
   "execution_count": null,
   "id": "6abdcb49-0959-49b0-81a3-2ce6c27d54a8",
   "metadata": {},
   "outputs": [],
   "source": []
  },
  {
   "cell_type": "code",
   "execution_count": null,
   "id": "9a28acec-b668-405e-8aa4-b13793bf48b7",
   "metadata": {},
   "outputs": [],
   "source": []
  }
 ],
 "metadata": {
  "kernelspec": {
   "display_name": "Python 3 (ipykernel)",
   "language": "python",
   "name": "python3"
  },
  "language_info": {
   "codemirror_mode": {
    "name": "ipython",
    "version": 3
   },
   "file_extension": ".py",
   "mimetype": "text/x-python",
   "name": "python",
   "nbconvert_exporter": "python",
   "pygments_lexer": "ipython3",
   "version": "3.13.5"
  }
 },
 "nbformat": 4,
 "nbformat_minor": 5
}
